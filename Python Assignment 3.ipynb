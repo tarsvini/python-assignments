{
 "cells": [
  {
   "cell_type": "code",
   "execution_count": 5,
   "id": "434f5cca",
   "metadata": {},
   "outputs": [
    {
     "data": {
      "text/plain": [
       "39"
      ]
     },
     "execution_count": 5,
     "metadata": {},
     "output_type": "execute_result"
    }
   ],
   "source": [
    "#Question 1.1\n",
    "def myreduce(func,*args): # arguments max 3 , arg 2 must be iterable\n",
    "    \n",
    "    if len(args)==0:\n",
    "        return None\n",
    "\n",
    "    elif len(args)==2:\n",
    "        initializer = args[1]\n",
    "        iterable=args[0]\n",
    "        if len(iterable)==0:\n",
    "             result=initializer\n",
    "        else:\n",
    "            iterable.append(initializer)\n",
    "            result =iterable[0]\n",
    "            for j in range(1,len(iterable)):\n",
    "                result =func(result,iterable[j])\n",
    "    else:\n",
    "        iterable=args[0] \n",
    "        result =iterable[0]\n",
    "        for j in range(1,len(iterable)):\n",
    "                result =func(result,iterable[j])\n",
    "    return result  \n",
    "\n",
    "#testcase\n",
    "def summation(a,b):\n",
    "    return a + b\n",
    "\n",
    "l =[4,5,6,7,8,9]\n",
    "myreduce(summation,l)\n",
    "#myreduce(lambda x,y: x+y,l)"
   ]
  },
  {
   "cell_type": "code",
   "execution_count": 19,
   "id": "1a279398",
   "metadata": {},
   "outputs": [
    {
     "name": "stdout",
     "output_type": "stream",
     "text": [
      "[2, 4, 8, 0]\n"
     ]
    }
   ],
   "source": [
    "#Question 1.2\n",
    "#myfilter()\n",
    "l =[1,2,3,4,5,7,8,9,0,45,667]\n",
    "l1=[]\n",
    "def test (data):\n",
    "    if data %2==0:\n",
    "        return True\n",
    "    else:\n",
    "        return False\n",
    "#list(filter(test,l))\n",
    "\n",
    "newlist =[]\n",
    "def myfilter(func,arg):\n",
    "    for i in arg:\n",
    "        if func(i)==True:\n",
    "            newlist.append(i)\n",
    "    print(newlist)\n",
    "        \n",
    "myfilter(test,l)    \n"
   ]
  },
  {
   "cell_type": "code",
   "execution_count": 3,
   "id": "dc8da6dc",
   "metadata": {},
   "outputs": [
    {
     "data": {
      "text/plain": [
       "['x', 'xx', 'xxx', 'xxxx', 'y', 'yy', 'yyy', 'yyyy', 'z', 'zz', 'zzz', 'zzzz']"
      ]
     },
     "execution_count": 3,
     "metadata": {},
     "output_type": "execute_result"
    }
   ],
   "source": [
    "#Question 2\n",
    "\n",
    "l =['x','y','z']\n",
    "l1=[]\n",
    "# for k in l:\n",
    "#     for i in range(4):\n",
    "#         l1.append(k*(i+1))\n",
    "    \n",
    "#l1\n",
    "\n",
    "\n",
    "[k*(i+1) for k in l for i in range(4)]"
   ]
  },
  {
   "cell_type": "code",
   "execution_count": 4,
   "id": "a61937f7",
   "metadata": {},
   "outputs": [
    {
     "data": {
      "text/plain": [
       "['x', 'y', 'z', 'xx', 'yy', 'zz', 'xxx', 'yyy', 'zzz', 'xxxx', 'yyyy', 'zzzz']"
      ]
     },
     "execution_count": 4,
     "metadata": {},
     "output_type": "execute_result"
    }
   ],
   "source": [
    "l =['x','y','z']\n",
    "l1=[]\n",
    "# for i in range(4):\n",
    "#     for k in l:\n",
    "#         #print(k*(i+1))\n",
    "#         l1.append(k*(i+1))\n",
    "    \n",
    "# l1\n",
    "\n",
    "[k*(i+1) for i in range(4) for k in l]"
   ]
  },
  {
   "cell_type": "code",
   "execution_count": 101,
   "id": "a83a7195",
   "metadata": {},
   "outputs": [
    {
     "name": "stdout",
     "output_type": "stream",
     "text": [
      "[[2], [3], [4], [3], [4], [5], [4], [5], [6]]\n",
      "[[2, 3, 4, 5], [3, 4, 5, 6], [4, 5, 6, 7], [5, 6, 7, 8]]\n"
     ]
    }
   ],
   "source": [
    "l=[]\n",
    "l1=[]\n",
    "\n",
    "for i in range(1,4):\n",
    "    for k in range(1,4):\n",
    "        l.append([k+i])\n",
    "#         if i == 1:            \n",
    "#             l.append([k+i])\n",
    "#         elif i == 2:\n",
    "#             l.append([k+i])\n",
    "#         else:\n",
    "#             l.append([k+i])\n",
    "\n",
    "# for i in range(1,5):\n",
    "#     l1.append([])\n",
    "#     for k in range(1,5):\n",
    "#          l1[i-1].append(k+i)      \n",
    "\n",
    "#         if i ==1: \n",
    "#             #l1.append(k+i)\n",
    "#             l1[i-1].append(k+i)\n",
    "#         elif i==2:\n",
    "#             #l2.append(k+i)\n",
    "#             l1[i-1].append(k+i)\n",
    "#         elif i==3:\n",
    "#             #l3.append(k+i)\n",
    "#             l1[i-1].append(k+i)         \n",
    "#         else:\n",
    "#             #l4.append(k+i)\n",
    "#             l1[i-1].append(k+i)  \n",
    "\n",
    "for k in range(1,5):\n",
    "    l1.append([k+1,k+2,k+3,k+4])\n",
    "    \n",
    "\n",
    "print([[k+i] for i in range(1,4) for k in range(1,4)])\n",
    "print([[k+1,k+2,k+3,k+4] for k in range(1,5)])\n",
    "\n",
    "\n"
   ]
  },
  {
   "cell_type": "code",
   "execution_count": 73,
   "id": "24f3b60a",
   "metadata": {},
   "outputs": [
    {
     "data": {
      "text/plain": [
       "[(1, 1), (2, 1), (3, 1), (1, 2), (2, 2), (3, 2), (1, 3), (2, 3), (3, 3)]"
      ]
     },
     "execution_count": 73,
     "metadata": {},
     "output_type": "execute_result"
    }
   ],
   "source": [
    "#l =[]\n",
    "# for i in range(1,4):\n",
    "#     for j in range(3):\n",
    "#         l.append((j+1,i,))\n",
    "      \n",
    "[(j+1,i) for i in range(1,4) for j in range(3)]"
   ]
  },
  {
   "cell_type": "code",
   "execution_count": null,
   "id": "e391eb33",
   "metadata": {},
   "outputs": [],
   "source": []
  }
 ],
 "metadata": {
  "kernelspec": {
   "display_name": "Python 3",
   "language": "python",
   "name": "python3"
  },
  "language_info": {
   "codemirror_mode": {
    "name": "ipython",
    "version": 3
   },
   "file_extension": ".py",
   "mimetype": "text/x-python",
   "name": "python",
   "nbconvert_exporter": "python",
   "pygments_lexer": "ipython3",
   "version": "3.8.8"
  }
 },
 "nbformat": 4,
 "nbformat_minor": 5
}
