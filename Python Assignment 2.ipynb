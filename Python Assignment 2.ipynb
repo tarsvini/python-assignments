{
 "cells": [
  {
   "cell_type": "code",
   "execution_count": 88,
   "id": "b79a46e8",
   "metadata": {
    "scrolled": false
   },
   "outputs": [
    {
     "name": "stdout",
     "output_type": "stream",
     "text": [
      ".\n",
      "..\n",
      "...\n",
      "....\n",
      ".....\n",
      "....\n",
      "...\n",
      "..\n",
      ".\n"
     ]
    }
   ],
   "source": [
    "#Question 1\n",
    "n = 9\n",
    "\n",
    "count = 1\n",
    "for k in range(n):\n",
    "    if k<= (n//2):\n",
    "        for j in range(k+1):\n",
    "            print(\".\",end = \"\")\n",
    "        print(\"\")\n",
    "    else:\n",
    "        print((k-count)* \".\",end = \"\")\n",
    "        print(\"\")\n",
    "        count+=2\n",
    "  \n",
    "    \n",
    " \n",
    " "
   ]
  },
  {
   "cell_type": "code",
   "execution_count": 11,
   "id": "6cb23757",
   "metadata": {
    "scrolled": false
   },
   "outputs": [
    {
     "name": "stdout",
     "output_type": "stream",
     "text": [
      "Input word:ineuron\n",
      "\n",
      "Output:norueni\n"
     ]
    }
   ],
   "source": [
    "#Question 2\n",
    "\n",
    "word=input(\"Input word:\")\n",
    "print()\n",
    "print(\"Output:\" + word[::-1])\n",
    "\n",
    "\n",
    "\n"
   ]
  }
 ],
 "metadata": {
  "kernelspec": {
   "display_name": "Python 3",
   "language": "python",
   "name": "python3"
  },
  "language_info": {
   "codemirror_mode": {
    "name": "ipython",
    "version": 3
   },
   "file_extension": ".py",
   "mimetype": "text/x-python",
   "name": "python",
   "nbconvert_exporter": "python",
   "pygments_lexer": "ipython3",
   "version": "3.8.8"
  }
 },
 "nbformat": 4,
 "nbformat_minor": 5
}
