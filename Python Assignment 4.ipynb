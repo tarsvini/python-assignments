{
 "cells": [
  {
   "cell_type": "code",
   "execution_count": 16,
   "id": "3d095fef",
   "metadata": {},
   "outputs": [],
   "source": [
    "#Question 1.1\n",
    "class cal_area:\n",
    "    def __init__(self,a,b,c):\n",
    "        self.a1 =a\n",
    "        self.b1 =b\n",
    "        self.c1 =c\n",
    "        self.s1 =(a+b+c)/2\n",
    "    def area(self):\n",
    "        return ((self.s1*(self.s1-self.a1)*(self.s1-self.b1)*(self.s1-self.c1)) ** 0.5)\n",
    " \n"
   ]
  },
  {
   "cell_type": "code",
   "execution_count": 17,
   "id": "5e025261",
   "metadata": {},
   "outputs": [],
   "source": [
    "m=cal_area(5,5,5)"
   ]
  },
  {
   "cell_type": "code",
   "execution_count": 18,
   "id": "9bab3364",
   "metadata": {},
   "outputs": [
    {
     "data": {
      "text/plain": [
       "10.825317547305483"
      ]
     },
     "execution_count": 18,
     "metadata": {},
     "output_type": "execute_result"
    }
   ],
   "source": [
    "m.area()"
   ]
  },
  {
   "cell_type": "code",
   "execution_count": 39,
   "id": "72be5d2b",
   "metadata": {},
   "outputs": [],
   "source": [
    "#Question 1.2\n",
    "def filter_long_words(words,n):\n",
    "    l=[]\n",
    "    for i in words:\n",
    "        if len(i)>n:\n",
    "            l.append(i)\n",
    "        else:\n",
    "            pass\n",
    "    return l\n",
    "            \n",
    "    "
   ]
  },
  {
   "cell_type": "code",
   "execution_count": 42,
   "id": "3c42fd42",
   "metadata": {},
   "outputs": [
    {
     "data": {
      "text/plain": [
       "['hello', 'referee']"
      ]
     },
     "execution_count": 42,
     "metadata": {},
     "output_type": "execute_result"
    }
   ],
   "source": [
    "filter_long_words(['hi','hello','referee','er'],3)"
   ]
  },
  {
   "cell_type": "code",
   "execution_count": 43,
   "id": "c6830cbf",
   "metadata": {},
   "outputs": [],
   "source": [
    "#Question 2.1\n",
    "def word_length(words):\n",
    "    l=[]\n",
    "    for i in words:\n",
    "        l.append(len(i))\n",
    "    return l\n",
    "    "
   ]
  },
  {
   "cell_type": "code",
   "execution_count": 44,
   "id": "8b2b17e9",
   "metadata": {},
   "outputs": [
    {
     "data": {
      "text/plain": [
       "[2, 5, 7, 2]"
      ]
     },
     "execution_count": 44,
     "metadata": {},
     "output_type": "execute_result"
    }
   ],
   "source": [
    "word_length(['hi','hello','referee','er'])"
   ]
  },
  {
   "cell_type": "code",
   "execution_count": 3,
   "id": "3808660c",
   "metadata": {},
   "outputs": [],
   "source": [
    "#Question 2.2\n",
    "def vowel_const(c):\n",
    "    if type(c) ==str and len(c)==1:\n",
    "        if (c=='a' or c=='e' or c=='i' or c=='o' or c=='u'):\n",
    "            return True\n",
    "        else:\n",
    "            return False\n",
    "    \n",
    "        "
   ]
  },
  {
   "cell_type": "code",
   "execution_count": 4,
   "id": "b2980d19",
   "metadata": {},
   "outputs": [
    {
     "data": {
      "text/plain": [
       "True"
      ]
     },
     "execution_count": 4,
     "metadata": {},
     "output_type": "execute_result"
    }
   ],
   "source": [
    "vowel_const('i')\n"
   ]
  }
 ],
 "metadata": {
  "kernelspec": {
   "display_name": "Python 3",
   "language": "python",
   "name": "python3"
  },
  "language_info": {
   "codemirror_mode": {
    "name": "ipython",
    "version": 3
   },
   "file_extension": ".py",
   "mimetype": "text/x-python",
   "name": "python",
   "nbconvert_exporter": "python",
   "pygments_lexer": "ipython3",
   "version": "3.8.8"
  }
 },
 "nbformat": 4,
 "nbformat_minor": 5
}
