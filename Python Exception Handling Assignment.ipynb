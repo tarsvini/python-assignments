{
 "cells": [
  {
   "cell_type": "code",
   "execution_count": 3,
   "id": "d121c35f",
   "metadata": {},
   "outputs": [
    {
     "name": "stdout",
     "output_type": "stream",
     "text": [
      "division by zero\n"
     ]
    }
   ],
   "source": [
    "#Q1\n",
    "def testfunc():\n",
    "    try:\n",
    "        5/0\n",
    "    except Exception as e:\n",
    "        print(e)\n",
    "\n",
    "testfunc()"
   ]
  },
  {
   "cell_type": "code",
   "execution_count": 15,
   "id": "a886478f",
   "metadata": {
    "scrolled": true
   },
   "outputs": [
    {
     "name": "stdout",
     "output_type": "stream",
     "text": [
      "Americans play Cricket\n",
      "Americans play Baseball\n",
      "Americans watch Cricket\n",
      "Americans watch Baseball\n",
      "Indians play Cricket\n",
      "Indians play Baseball\n",
      "Indians watch Cricket\n",
      "Indians watch Baseball\n"
     ]
    }
   ],
   "source": [
    "#Q2\n",
    "subject={\"Americans\",\"Indians\"}\n",
    "verbs={\"play\",\"watch\"}\n",
    "objects={\"Baseball\",\"Cricket\"}\n",
    "\n",
    "\n",
    "for i in subject:\n",
    "    for j in verbs:\n",
    "        for k in objects:\n",
    "            print(i+' '+ j +' '+ k)"
   ]
  }
 ],
 "metadata": {
  "kernelspec": {
   "display_name": "Python 3",
   "language": "python",
   "name": "python3"
  },
  "language_info": {
   "codemirror_mode": {
    "name": "ipython",
    "version": 3
   },
   "file_extension": ".py",
   "mimetype": "text/x-python",
   "name": "python",
   "nbconvert_exporter": "python",
   "pygments_lexer": "ipython3",
   "version": "3.8.8"
  }
 },
 "nbformat": 4,
 "nbformat_minor": 5
}
